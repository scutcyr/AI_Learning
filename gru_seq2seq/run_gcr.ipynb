{
 "cells": [
  {
   "cell_type": "markdown",
   "metadata": {},
   "source": [
    "# 本部分运行聊天机器人代码"
   ]
  },
  {
   "cell_type": "code",
   "execution_count": null,
   "metadata": {},
   "outputs": [],
   "source": [
    "%run seq2seq"
   ]
  },
  {
   "cell_type": "markdown",
   "metadata": {},
   "source": [
    "# [GCR](https://github.com/scutcyr/GCR)\n",
    "Author: [Yirong Chen](https://scutcyr.github.io/)\n",
    "This is AI project of Yirong Chen.\n",
    "## Group Chat Robot    \n",
    "\n",
    "\n",
    "# 用法简介：\n",
    "依赖文件：config.py、preprocessing.py\n",
    "## 在命令行窗口运行模板\n",
    "python seq2seq.py --args_name parameter\n",
    "## 例子1：使用默认的对话语料\n",
    "训练对话系统网络\n",
    "python seq2seq.py\n",
    "测试对话系统网络\n",
    "python seq2seq.py --run_type=predict\n",
    "## 例子2：指定语料库路径和语料库名称\n",
    "步骤一：打开config.py文件，在CorpusDict当中添加你的语料库，格式参考如下：\"Chatterbot\":\"chatterbot.tsv\"   \n",
    "步骤二：   \n",
    "训练对话系统网络:   \n",
    "python seq2seq.py --Corpus=[CorpusName] --Filepath=[Filepath]   \n",
    "测试对话系统网络:   \n",
    "python seq2seq.py --Corpus=[CorpusName] --Filepath=[Filepath] --run_type=predict   \n",
    "   \n",
    "例如，我的Corpus保存路径为：/157Dataset/data-chen.yirong/nlpdataset/dialogue/chat_corpus/chinese_corpus/clean_chat_corpus/   \n",
    "用于训练的语料集在config.py中的CorpusDict定义为\"Chatterbot\":\"chatterbot.tsv\"   \n",
    "则可以通过下列命令实现训练和测试   \n",
    "训练：   \n",
    "python seq2seq.py --Corpus=Chatterbot --Filepath=/157Dataset/data-chen.yirong/nlpdataset/dialogue/chat_corpus/chinese_corpus/clean_chat_corpus/   \n",
    "测试：   \n",
    "python seq2seq.py --Corpus=Chatterbot --Filepath=/157Dataset/data-chen.yirong/nlpdataset/dialogue/chat_corpus/chinese_corpus/clean_chat_corpus/ --run_type=predict   \n",
    "\n",
    "## 还可以使用--input_size、--hidden_size、--output_size、--n_layers、--dropout_p、--max_length、--max_epoches、--beam_search、--use_cuda、--rnn_type对网络参数进行设置   \n",
    "   \n",
    "--run_type: 本文件运行模式，主要分为train和predict两种   \n",
    "--input_size: Encoder对应的词嵌入的词库大小，等于vocab的大小+1   \n",
    "--hidden_size: 隐层大小   \n",
    "--output_size: Decoder对应的词嵌入的词库大小，等于vocab的大小+1   \n",
    "--n_layers: Encoder/Decoder网络层数   \n",
    "--dropout_p: dropout概率   \n",
    "--max_length：最大长度   \n",
    "--max_epoches: 最大epoches    \n",
    "--beam_search: 是否进行beam_search算法搜索   \n",
    "--rnn_type: RNN结构，可以选择RNN、LSTM、GRU，默认为GRU   \n",
    "--use_cuda: 是否使用CUDA训练   \n",
    "--model_path: 训练好的模型路径，默认为: \".model/\"+Corpus+\"/\"   \n",
    "--Corpus: 对话语料库名称，文件格式为.tsv，每一行为一个句子对，形式为:Q \\t A, 可选择: Chatterbot、Douban、Ptt、Qingyun、Subtitle、Tieba、Weibo、Xiaohuangji   \n",
    "--Filepath: 文件路径.   "
   ]
  },
  {
   "cell_type": "code",
   "execution_count": null,
   "metadata": {},
   "outputs": [],
   "source": []
  }
 ],
 "metadata": {
  "kernelspec": {
   "display_name": "Python 3",
   "language": "python",
   "name": "python3"
  },
  "language_info": {
   "codemirror_mode": {
    "name": "ipython",
    "version": 3
   },
   "file_extension": ".py",
   "mimetype": "text/x-python",
   "name": "python",
   "nbconvert_exporter": "python",
   "pygments_lexer": "ipython3",
   "version": "3.6.4"
  }
 },
 "nbformat": 4,
 "nbformat_minor": 2
}
