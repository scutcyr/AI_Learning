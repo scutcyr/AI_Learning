{
 "cells": [
  {
   "cell_type": "markdown",
   "metadata": {},
   "source": [
    "# Python登录微信\n",
    "需要在终端运行以下语句：   \n",
    "```bash\n",
    "pip install itchat\n",
    "pip install echarts-python\n",
    "pip install jieba\n",
    "pip install pillow\n",
    "pip install wordcloud\n",
    "pip install matplotlib\n",
    "pip install numpy\n",
    "```"
   ]
  },
  {
   "cell_type": "markdown",
   "metadata": {},
   "source": [
    "## 统计好友性别比例"
   ]
  },
  {
   "cell_type": "code",
   "execution_count": 1,
   "metadata": {},
   "outputs": [
    {
     "name": "stdout",
     "output_type": "stream",
     "text": [
      "█\r"
     ]
    },
    {
     "name": "stderr",
     "output_type": "stream",
     "text": [
      "Getting uuid of QR code.\n",
      "Downloading QR code.\n",
      "Please scan the QR code to log in.\n",
      "Please press confirm on your phone.\n",
      "Loading the contact, this may take a little while.\n",
      "Login successfully as 陈艺荣\n"
     ]
    },
    {
     "name": "stdout",
     "output_type": "stream",
     "text": [
      "男性好友：59.63%\n",
      "女性好友：33.35%\n",
      "未填性别：7.01%\n"
     ]
    }
   ],
   "source": [
    "# coding:utf-8\n",
    "import itchat\n",
    "'''\n",
    "微信好友性别比例\n",
    "'''\n",
    "\n",
    "# 先登录\n",
    "itchat.login()\n",
    "\n",
    "# 获取好友列表\n",
    "friends = itchat.get_friends(update=True)[0:]\n",
    "\n",
    "# 初始化计数器，有男有女，当然，有些人是不填的\n",
    "male = female = other = 0\n",
    "\n",
    "# 遍历这个列表，列表里第一位是自己，所以从\"自己\"之后开始计算\n",
    "# 1表示男性，2女性\n",
    "for i in friends[1:]:\n",
    "    sex = i[\"Sex\"]\n",
    "    if sex == 1:\n",
    "        male += 1\n",
    "    elif sex == 2:\n",
    "        female += 1\n",
    "    else:\n",
    "        other += 1\n",
    "\n",
    "# 总数算上，好计算比例啊～\n",
    "total = len(friends[1:])\n",
    "\n",
    "# 打印结果\n",
    "print(u\"男性好友：%.2f%%\" % (float(male) / total * 100))\n",
    "print(u\"女性好友：%.2f%%\" % (float(female) / total * 100))\n",
    "print(u\"未填性别：%.2f%%\" % (float(other) / total * 100))\n",
    "\n"
   ]
  },
  {
   "cell_type": "markdown",
   "metadata": {},
   "source": [
    "## 获取好友信息"
   ]
  },
  {
   "cell_type": "code",
   "execution_count": 2,
   "metadata": {},
   "outputs": [],
   "source": [
    "friends=itchat.get_friends(update=True)[0:]"
   ]
  },
  {
   "cell_type": "markdown",
   "metadata": {},
   "source": [
    "## 生成好友个性签名词云"
   ]
  },
  {
   "cell_type": "code",
   "execution_count": 3,
   "metadata": {},
   "outputs": [
    {
     "name": "stderr",
     "output_type": "stream",
     "text": [
      "Building prefix dict from the default dictionary ...\n",
      "Loading model from cache C:\\Users\\TF\\AppData\\Local\\Temp\\jieba.cache\n",
      "Loading model cost 0.627 seconds.\n",
      "Prefix dict has been built succesfully.\n"
     ]
    },
    {
     "data": {
      "text/plain": [
       "<Figure size 640x480 with 1 Axes>"
      ]
     },
     "metadata": {},
     "output_type": "display_data"
    },
    {
     "data": {
      "text/plain": [
       "<ItchatReturnValue: {'BaseResponse': {'Ret': 0, 'ErrMsg': '请求成功', 'RawMsg': '请求成功'}, 'MsgID': '1313775741784964652', 'LocalID': '15616002151960'}>"
      ]
     },
     "execution_count": 3,
     "metadata": {},
     "output_type": "execute_result"
    }
   ],
   "source": [
    "import re\n",
    "tList = []\n",
    "for i in friends:\n",
    "    signature = i[\"Signature\"].replace(\" \", \"\").replace(\"span\", \"\").replace(\"class\", \"\").replace(\"emoji\", \"\")\n",
    "    rep = re.compile(\"1f\\d.+\")\n",
    "    signature = rep.sub(\"\", signature)\n",
    "    tList.append(signature)\n",
    "\n",
    "# 拼接字符串\n",
    "text = \"\".join(tList)\n",
    "\n",
    "# jieba分词\n",
    "import jieba\n",
    "wordlist_jieba = jieba.cut(text, cut_all=True)\n",
    "wl_space_split = \" \".join(wordlist_jieba)\n",
    "\n",
    "# wordcloud词云\n",
    "import matplotlib.pyplot as plt\n",
    "from wordcloud import WordCloud, ImageColorGenerator\n",
    "import os\n",
    "import numpy as np\n",
    "import PIL.Image as Image\n",
    "\n",
    "\n",
    "d = os.path.dirname(\"./\")\n",
    "# 更改目录下Wordcloud生成图片，如：xiaohuangren.jpg\n",
    "alice_coloring = np.array(Image.open(os.path.join(\"./\", \"xiaohuangren.jpg\")))\n",
    "# win系统需要更改font路径，如：C:\\Windows\\Fonts\\msyhbd.ttc\n",
    "my_wordcloud = WordCloud(background_color=\"white\", max_words=2000, mask=alice_coloring,\n",
    "                         max_font_size=40, random_state=42,\n",
    "                         font_path='C:\\\\Windows\\\\Fonts\\\\ARIALUNI.ttf')\\\n",
    "    .generate(wl_space_split)\n",
    "\n",
    "image_colors = ImageColorGenerator(alice_coloring)\n",
    "plt.imshow(my_wordcloud.recolor(color_func=image_colors))\n",
    "plt.imshow(my_wordcloud)\n",
    "plt.axis(\"off\")\n",
    "plt.show()\n",
    "\n",
    "# 保存图片 并发送到手机\n",
    "my_wordcloud.to_file(os.path.join(d, \"wechat_cloud.png\"))\n",
    "itchat.send_image(\"wechat_cloud.png\", 'filehelper')"
   ]
  },
  {
   "cell_type": "markdown",
   "metadata": {},
   "source": [
    "## 头像拼接"
   ]
  },
  {
   "cell_type": "code",
   "execution_count": null,
   "metadata": {},
   "outputs": [],
   "source": [
    "import itchat\n",
    "import os\n",
    "import math\n",
    "import PIL.Image as Image\n",
    "import matplotlib.pyplot as plt\n",
    "import random\n",
    "from wordcloud import WordCloud\n",
    "import jieba\n",
    "import re\n",
    "# 获取头像\n",
    "def headImg(friends):\n",
    "    #itchat.login()\n",
    "    #friends = itchat.get_friends(update=True)\n",
    "    #itchat.get_head_img() 获取到头像二进制，并写入文件，保存每张头像\n",
    "    for count, f in enumerate(friends):\n",
    "        # 根据userName获取头像\n",
    "        img = itchat.get_head_img(userName=f[\"UserName\"])\n",
    "        imgFile = open(\"img/\" + str(count) + \".jpg\", \"wb\")\n",
    "        imgFile.write(img)\n",
    "        imgFile.close()\n",
    "\n",
    "\n",
    "# 头像拼接图\n",
    "def createImg():\n",
    "    x = 0\n",
    "    y = 0\n",
    "    imgs = os.listdir(\"img\")\n",
    "    random.shuffle(imgs)\n",
    "    # 创建640*640的图片用于填充各小图片\n",
    "    newImg = Image.new('RGBA', (640, 640))\n",
    "    # 以640*640来拼接图片，math.sqrt()开平方根计算每张小图片的宽高，\n",
    "    width = int(math.sqrt(640 * 640 / len(imgs)))\n",
    "    # 每行图片数\n",
    "    numLine = int(640 / width)\n",
    "\n",
    "    for i in imgs:\n",
    "        try:\n",
    "            img = Image.open(\"img/\" + i)\n",
    "        # 缩小图片\n",
    "            img = img.resize((width, width), Image.ANTIALIAS)\n",
    "        # 拼接图片，一行排满，换行拼接\n",
    "            newImg.paste(img, (x * width, y * width))\n",
    "            x += 1\n",
    "            if x >= numLine:\n",
    "                x = 0\n",
    "                y += 1\n",
    "        except IOError:\n",
    "            print(\"img/ %s can not open\"%(i))\n",
    "    newImg.save(\"all.png\")\n",
    "    \n",
    "# 微信好友头像拼接\n",
    "headImg(friends)\n",
    "createImg()"
   ]
  },
  {
   "cell_type": "markdown",
   "metadata": {},
   "source": [
    "## 自动回复好友信息"
   ]
  },
  {
   "cell_type": "code",
   "execution_count": null,
   "metadata": {},
   "outputs": [],
   "source": [
    "import time\n",
    "# 自动回复\n",
    "# 封装好的装饰器，当接收到的消息是Text，即文字消息\n",
    "@itchat.msg_register('Text')\n",
    "def text_reply(msg):\n",
    "    # 当消息不是由自己发出的时候\n",
    "    if not msg['FromUserName'] == myUserName:\n",
    "        # 发送一条提示给文件助手\n",
    "        itchat.send_msg(u\"[%s]收到好友@%s 的信息：%s\\n\" %\n",
    "                        (time.strftime(\"%Y-%m-%d %H:%M:%S\", time.localtime(msg['CreateTime'])),\n",
    "                         msg['User']['NickName'],\n",
    "                         msg['Text']), 'filehelper')\n",
    "        # 回复给好友\n",
    "        return u'[自动回复]您好，我现在有事不在，一会再和您联系。\\n已经收到您的的信息：%s\\n' % (msg['Text'])\n",
    "\n",
    "if __name__ == '__main__':\n",
    "    itchat.auto_login()\n",
    "\n",
    "    # 获取自己的UserName\n",
    "    myUserName = itchat.get_friends(update=True)[0][\"UserName\"]\n",
    "    itchat.run()"
   ]
  },
  {
   "cell_type": "code",
   "execution_count": null,
   "metadata": {},
   "outputs": [],
   "source": []
  }
 ],
 "metadata": {
  "kernelspec": {
   "display_name": "Python 3",
   "language": "python",
   "name": "python3"
  },
  "language_info": {
   "codemirror_mode": {
    "name": "ipython",
    "version": 3
   },
   "file_extension": ".py",
   "mimetype": "text/x-python",
   "name": "python",
   "nbconvert_exporter": "python",
   "pygments_lexer": "ipython3",
   "version": "3.6.4"
  }
 },
 "nbformat": 4,
 "nbformat_minor": 2
}
